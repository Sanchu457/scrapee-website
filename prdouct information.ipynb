{
 "cells": [
  {
   "cell_type": "code",
   "execution_count": 1,
   "id": "9f01bd3b",
   "metadata": {},
   "outputs": [],
   "source": [
    "from bs4 import BeautifulSoup\n",
    "import requests"
   ]
  },
  {
   "cell_type": "code",
   "execution_count": 2,
   "id": "315426ad",
   "metadata": {},
   "outputs": [],
   "source": [
    "url = (\"https://www.flipkart.com/dell-inspiron-core-i3-11th-gen-8-gb-1-tb-hdd-windows-11-home-3511-thin-light-laptop/p/itm3aee48058fdab?pid=COMGAAWYSVWZAMZZ&lid=LSTCOMGAAWYSVWZAMZZEKY92E&marketplace=FLIPKART&q=laptop&store=6bo%2Fb5g&srno=s_1_1&otracker=search&otracker1=search&fm=organic&iid=en_WDRoQOs19ukcAWeyJsHlVpGnw9ZQ%2FioWEz9wK37coFEP%2B00lBi2Eg3hfDwJ7q3DFeKheLKqydKc6uFSGeIZ1jA%3D%3D&ppt=hp&ppn=homepage&ssid=ph761dm2gw0000001651783921688&qH=312f91285e048e09\")"
   ]
  },
  {
   "cell_type": "code",
   "execution_count": 12,
   "id": "28f27579",
   "metadata": {},
   "outputs": [],
   "source": [
    "response = requests.get(url)"
   ]
  },
  {
   "cell_type": "code",
   "execution_count": 14,
   "id": "bf3008fb",
   "metadata": {},
   "outputs": [
    {
     "data": {
      "text/plain": [
       "<Response [200]>"
      ]
     },
     "execution_count": 14,
     "metadata": {},
     "output_type": "execute_result"
    }
   ],
   "source": [
    "requests.get(url)"
   ]
  },
  {
   "cell_type": "markdown",
   "id": "9e35afeb",
   "metadata": {},
   "source": [
    "product title"
   ]
  },
  {
   "cell_type": "code",
   "execution_count": 5,
   "id": "dc236957",
   "metadata": {},
   "outputs": [],
   "source": [
    "soup = BeautifulSoup(response.content, \"html.parser\")"
   ]
  },
  {
   "cell_type": "code",
   "execution_count": 6,
   "id": "76212071",
   "metadata": {},
   "outputs": [],
   "source": [
    "res = soup.find('span',attrs={'class':'B_NuCI'})"
   ]
  },
  {
   "cell_type": "code",
   "execution_count": 7,
   "id": "da095d7c",
   "metadata": {},
   "outputs": [
    {
     "name": "stdout",
     "output_type": "stream",
     "text": [
      "DELL Inspiron Core i3 11th Gen - (8 GB/1 TB HDD/Windows 11 Home) Inspiron 3511 Thin and Light Laptop  (14.96 inch, Carbon Black, 1.8 kg, With MS Office)\n"
     ]
    }
   ],
   "source": [
    "print(res.get_text())"
   ]
  },
  {
   "attachments": {
    "inspiron-3511-thin-and-light-laptop-dell-original-imag6n5kbmfcgxk6.webp": {
     "image/webp": "[encoded data removed]"
    }
   },
   "cell_type": "markdown",
   "id": "f066e0c5",
   "metadata": {},
   "source": [
    "product image![inspiron-3511-thin-and-light-laptop-dell-original-imag6n5kbmfcgxk6.webp](attachment:inspiron-3511-thin-and-light-laptop-dell-original-imag6n5kbmfcgxk6.webp)"
   ]
  },
  {
   "cell_type": "markdown",
   "id": "e4089d49",
   "metadata": {},
   "source": [
    "price of the product"
   ]
  },
  {
   "cell_type": "code",
   "execution_count": 8,
   "id": "ac9616f7",
   "metadata": {},
   "outputs": [],
   "source": [
    "res = soup.find('div',attrs={'class':'_30jeq3 _16Jk6d'})"
   ]
  },
  {
   "cell_type": "code",
   "execution_count": 9,
   "id": "6a45c2a6",
   "metadata": {},
   "outputs": [
    {
     "name": "stdout",
     "output_type": "stream",
     "text": [
      "₹36,990\n"
     ]
    }
   ],
   "source": [
    "print(res.get_text())"
   ]
  },
  {
   "cell_type": "markdown",
   "id": "244be976",
   "metadata": {},
   "source": [
    "product details"
   ]
  },
  {
   "cell_type": "code",
   "execution_count": 10,
   "id": "3acc77d4",
   "metadata": {},
   "outputs": [],
   "source": [
    "res = soup.find('div',attrs={'class':'_1YokD2 _3Mn1Gg col-8-12'})"
   ]
  },
  {
   "cell_type": "code",
   "execution_count": 11,
   "id": "083a74c8",
   "metadata": {},
   "outputs": [
    {
     "name": "stdout",
     "output_type": "stream",
     "text": [
      "HomeComputersLaptopsDELL LaptopsDELL Inspiron Core i3 11th Gen - (8 GB/1 TB HDD/Windows 11 Home) Inspiron 3511 Thin and Light Laptop (14.96 inch, Carbon Black, 1.8 kg, With MS Office)\n",
      "CompareShareDELL Inspiron Core i3 11th Gen - (8 GB/1 TB HDD/Windows 11 Home) Inspiron 3511 Thin and Light Laptop  (14.96 inch, Carbon Black, 1.8 kg, With MS Office)3.6368 Ratings & 53 Reviews₹36,990₹51,49328% offAvailable offersBank Offer10% off on SBI Credit Card, up to ₹1250. On orders of ₹5000 and aboveT&CBank Offer10% off on SBI Credit Card EMI transactions, up to ₹1500. On orders of ₹5000 and aboveT&CBank Offer5% Cashback on Flipkart Axis Bank CardT&CGet Google Nest hub(2nd gen) at just ₹4999T&CView 4 more offersBuy without Exchange₹36,990Buy with Exchangeup to ₹18,100 offEnter pincode to check if exchange is available1 Year Onsite WarrantyKnow MoreDeliveryCheckEnter pincodeUsually delivered and Installed in6 days?Enter pincode for exact delivery dates/chargesView DetailsHighlightsStylish & Portable Thin and Light Laptop14.96 inch Full HD, WVA AG Narrow BorderLight Laptop without Optical Disk DriveEasy Payment OptionsEMI starting from ₹1,265/monthCash on DeliveryNet banking & Credit/ Debit/ ATM cardView DetailsSellerPETILANTE Online4.67 day seller replacement policy/brand assistance for device issues*?SpecificationsGeneralSales PackageLaptop, Battery, Adapter, Cables and User ManualsModel NumberInspiron 3511Part NumberD560646WIN9BModel NameInspiron 3511SeriesInspironColorCarbon BlackTypeThin and Light LaptopSuitable ForEveryday UseBattery BackupUpto 7 HoursBattery Cell3 CellMS Office ProvidedYesProcessor And Memory FeaturesProcessor BrandIntelProcessor NameCore i3Processor Generation11th GenSSDNoRAM8 GBRAM TypeDDR4HDD Capacity1 TBProcessor Variant1115G4Clock Speed1.7 GHz Upto Max Turbo Frequency at 4.1 GHzMemory Slots2Expandable Memory16 GBRAM Frequency2666 MHzCache6 MBRPM5400Graphic ProcessorIntel Integrated UHDNumber of Cores2Operating SystemOS Architecture64 bitOperating SystemWindows 11 HomeSupported Operating SystemWindows 11 HomeSystem Architecture64 bitPort And Slot FeaturesDock PortNoFirewire PortNoRJ11NoMic InYesRJ45NoVGA PortNoUSB Port2 x USB 3.2 Gen 1 ,1 x USB 2.0HDMI Port1 x HDMI 1.4Multi Card Slot1 x SD Media Card Reader (SD, SDHC, SDXC)Hardware InterfaceNADisplay And Audio FeaturesTouchscreenNoScreen Size38.0 cm (14.96 inch)Screen Resolution1920 x 1080 PixelScreen TypeFull HD, WVA AG Narrow BorderSpeakersYesInternal MicYesSound PropertiesWaves Maxx Audio ProConnectivity FeaturesWireless LAN802.11acBluetoothv5.0EthernetAvailableDimensionsDimensions358 x 235 x 18.9 mmWeight1.8 kgAdditional FeaturesDisk DriveNot AvailableWeb CameraHDRead/Write SpeedNAFinger Print SensorNoLock PortKensington Lock PortAntivirusMcAfeeKeyboardEnglish International Non Backlit KeyboardBacklit KeyboardNoPointer DeviceTouchpadIncluded SoftwareMicrosoft Office Home & Student 2021Laptop BagNoWarrantyWarranty Summary1 Year Onsite WarrantyWarranty Service TypeOnsiteCovered in WarrantyManufacturing DefectsNot Covered in WarrantyAccidental DamageDomestic Warranty1 YearRead MoreRatings & ReviewsRate Product3.6★368 Ratings &53 Reviews5★4★3★2★1★173603818792.9Performance3.1Battery3.4Design3.4Display4Good choiceDon’t get panic when you initially setup and use your laptop. The laptop is dead slow out of the box!!. As I have an IT support background I did following steps to solve the problem.Disabled bitlocker drive encryption Updated the bios driver Updated the intel chipset driverUpdated all major device drivers to latest. After spending over 4-5 hours now the laptop is working fine as expected.READ MORESoji GeorgeCertified Buyer, Chengannur3months ago618PermalinkReport Abuse1Hated it!It is always in update Very wrost opening timeHangs always Not good in any workOnly you can yuse as storage workOpening time more than 2 minuts after that it will loading processREAD MOREKuldeep TiwariCertified Buyer, Jabalpur3months ago5012PermalinkReport Abuse5Terrific purchaseGood 👍READ MOREFlipkart CustomerCertified Buyer, New Delhi2months ago121PermalinkReport Abuse4Value-for-moneyIt wil be dead slow in box product..after u update everything it will work niceREAD MORENandha KumarCertified Buyer, Vengathur3months ago172PermalinkReport Abuse1HorribleVERY VERY SLOW. DISAPPOINTED ☹️READ MOREMuzaffar MalekCertified Buyer, Kalaburgi1month ago60PermalinkReport Abuse1HorribleSlow worksREAD MORESatyendra  SharmaCertified Buyer, Lalitpur District2months ago60PermalinkReport Abuse2ModerateDon't Buy this laptop after reading specification. It is slow like tortoise.READ MOREBinay YadavCertified Buyer, Navi Mumbai3months ago31PermalinkReport Abuse5Classy productGetting slow out-of-the-box but nice performance after updateREAD MOREAnmol singhCertified Buyer, Rajapur3months ago40PermalinkReport Abuse1Did not meet expectationsYet to see such slow laptopTakes 20 minutes to start What a waste of money Is their anyway we can send back this useless laptop???READ MOREFlipkart CustomerCertified Buyer, New Delhi2months ago20PermalinkReport Abuse1Very poorWorst productREAD MOREPraveen VCertified Buyer, Kancheepuram3months ago00PermalinkReport Abuse+All 53 reviewsQuestions and AnswersQ:Can upgrade graphics card?A:yesGagan  RaghavCertified Buyer83Report AbuseQ:does it has extra empty slot for ssdA:YesAnonymousCertified Buyer31Report AbuseQ:The laptop is working fine?A:Yes, working smoothly and never faced hang issue with multitask.Raj DasCertified Buyer42Report AbuseQ:Does the laptop is very slow and keeps on hanging?A:No. It works normal as per specifications. I have not experienced any issues.Purushotham  AyachetulaCertified Buyer00Report AbuseQ:In this laptop i5 11gen Should be or not.A:i3 11 genAnonymousCertified Buyer13Report AbuseQ:Can I play free fairA:YesAnonymousCertified Buyer193Report AbuseQ:We can attach extra ssdA:yes there is battery problemAnonymousCertified Buyer215Report AbuseQ:Can it have extra slot for hddA:YesJayrajCertified Buyer122Report AbuseQ:Is the charger for this laptop available with this order????A:Yes priya it's availableDeva RajanCertified Buyer00Report AbuseRead other answersQ:It's worthable price or notA:not at allAnonymousCertified Buyer00Report AbuseAll questions+Safe and Secure Payments.Easy returns.100% Authentic products.\n"
     ]
    }
   ],
   "source": [
    "print(res.get_text())"
   ]
  },
  {
   "cell_type": "code",
   "execution_count": 56,
   "id": "ed489a9f",
   "metadata": {},
   "outputs": [],
   "source": []
  },
  {
   "cell_type": "code",
   "execution_count": null,
   "id": "79230d1f",
   "metadata": {},
   "outputs": [],
   "source": []
  }
 ],
 "metadata": {
  "kernelspec": {
   "display_name": "Python 3 (ipykernel)",
   "language": "python",
   "name": "python3"
  },
  "language_info": {
   "codemirror_mode": {
    "name": "ipython",
    "version": 3
   },
   "file_extension": ".py",
   "mimetype": "text/x-python",
   "name": "python",
   "nbconvert_exporter": "python",
   "pygments_lexer": "ipython3",
   "version": "3.9.7"
  }
 },
 "nbformat": 4,
 "nbformat_minor": 5
}
